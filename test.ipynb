{
 "metadata": {
  "language_info": {
   "codemirror_mode": {
    "name": "ipython",
    "version": 3
   },
   "file_extension": ".py",
   "mimetype": "text/x-python",
   "name": "python",
   "nbconvert_exporter": "python",
   "pygments_lexer": "ipython3",
   "version": "3.8.5-final"
  },
  "orig_nbformat": 2,
  "kernelspec": {
   "name": "python3",
   "display_name": "Python 3"
  }
 },
 "nbformat": 4,
 "nbformat_minor": 2,
 "cells": [
  {
   "cell_type": "code",
   "execution_count": 1,
   "metadata": {},
   "outputs": [
    {
     "output_type": "stream",
     "name": "stdout",
     "text": [
      "----------------------------------------------------------------\n        Layer (type)               Output Shape         Param #\n================================================================\n            Conv2d-1         [-1, 64, 256, 256]           1,792\n            Conv2d-2         [-1, 64, 256, 256]          36,928\n            Conv2d-3        [-1, 128, 128, 128]          73,856\n    InstanceNorm2d-4        [-1, 128, 128, 128]               0\n         LeakyReLU-5        [-1, 128, 128, 128]               0\n            Conv2d-6        [-1, 128, 128, 128]         147,584\n    InstanceNorm2d-7        [-1, 128, 128, 128]               0\n         LeakyReLU-8        [-1, 128, 128, 128]               0\n      EncoderBlock-9        [-1, 128, 128, 128]               0\n           Conv2d-10          [-1, 256, 64, 64]         295,168\n   InstanceNorm2d-11          [-1, 256, 64, 64]               0\n        LeakyReLU-12          [-1, 256, 64, 64]               0\n           Conv2d-13          [-1, 256, 64, 64]         590,080\n   InstanceNorm2d-14          [-1, 256, 64, 64]               0\n        LeakyReLU-15          [-1, 256, 64, 64]               0\n     EncoderBlock-16          [-1, 256, 64, 64]               0\nAdaptiveAvgPool2d-17            [-1, 256, 1, 1]               0\n           Linear-18                    [-1, 1]             256\n             ReLU-19                    [-1, 1]               0\n           Linear-20                  [-1, 256]             256\n          Sigmoid-21                  [-1, 256]               0\n          SEBlock-22          [-1, 256, 64, 64]               0\n           Conv2d-23          [-1, 512, 32, 32]       1,180,160\n   InstanceNorm2d-24          [-1, 512, 32, 32]               0\n        LeakyReLU-25          [-1, 512, 32, 32]               0\n           Conv2d-26          [-1, 512, 32, 32]       2,359,808\n   InstanceNorm2d-27          [-1, 512, 32, 32]               0\n        LeakyReLU-28          [-1, 512, 32, 32]               0\n     EncoderBlock-29          [-1, 512, 32, 32]               0\nAdaptiveAvgPool2d-30            [-1, 512, 1, 1]               0\n           Linear-31                    [-1, 1]             512\n             ReLU-32                    [-1, 1]               0\n           Linear-33                  [-1, 512]             512\n          Sigmoid-34                  [-1, 512]               0\n          SEBlock-35          [-1, 512, 32, 32]               0\n           Conv2d-36         [-1, 1024, 16, 16]       4,719,616\n   InstanceNorm2d-37         [-1, 1024, 16, 16]               0\n        LeakyReLU-38         [-1, 1024, 16, 16]               0\n           Conv2d-39         [-1, 1024, 16, 16]       9,438,208\n   InstanceNorm2d-40         [-1, 1024, 16, 16]               0\n        LeakyReLU-41         [-1, 1024, 16, 16]               0\n     EncoderBlock-42         [-1, 1024, 16, 16]               0\nAdaptiveAvgPool2d-43           [-1, 1024, 1, 1]               0\n           Linear-44                    [-1, 1]           1,024\n             ReLU-45                    [-1, 1]               0\n           Linear-46                 [-1, 1024]           1,024\n          Sigmoid-47                 [-1, 1024]               0\n          SEBlock-48         [-1, 1024, 16, 16]               0\n           Conv2d-49         [-1, 1024, 16, 16]       9,438,208\n           Conv2d-50         [-1, 1024, 16, 16]       9,438,208\n           Conv2d-51         [-1, 1024, 16, 16]       9,438,208\n           Conv2d-52         [-1, 1024, 16, 16]       9,438,208\n  ConvTranspose2d-53          [-1, 512, 31, 31]       4,719,104\n   InstanceNorm2d-54          [-1, 512, 31, 31]               0\n        LeakyReLU-55          [-1, 512, 31, 31]               0\n  ConvTranspose2d-56          [-1, 512, 31, 31]       2,359,808\n   InstanceNorm2d-57          [-1, 512, 31, 31]               0\n        LeakyReLU-58          [-1, 512, 31, 31]               0\n     DecoderBlock-59         [-1, 1024, 32, 32]               0\n  ConvTranspose2d-60          [-1, 256, 63, 63]       2,359,552\n   InstanceNorm2d-61          [-1, 256, 63, 63]               0\n        LeakyReLU-62          [-1, 256, 63, 63]               0\n  ConvTranspose2d-63          [-1, 256, 63, 63]         590,080\n   InstanceNorm2d-64          [-1, 256, 63, 63]               0\n        LeakyReLU-65          [-1, 256, 63, 63]               0\n     DecoderBlock-66          [-1, 512, 64, 64]               0\n  ConvTranspose2d-67        [-1, 128, 127, 127]         589,952\n   InstanceNorm2d-68        [-1, 128, 127, 127]               0\n        LeakyReLU-69        [-1, 128, 127, 127]               0\n  ConvTranspose2d-70        [-1, 128, 127, 127]         147,584\n   InstanceNorm2d-71        [-1, 128, 127, 127]               0\n        LeakyReLU-72        [-1, 128, 127, 127]               0\n     DecoderBlock-73        [-1, 256, 128, 128]               0\n  ConvTranspose2d-74         [-1, 64, 255, 255]         147,520\n   InstanceNorm2d-75         [-1, 64, 255, 255]               0\n        LeakyReLU-76         [-1, 64, 255, 255]               0\n  ConvTranspose2d-77         [-1, 64, 255, 255]          36,928\n   InstanceNorm2d-78         [-1, 64, 255, 255]               0\n        LeakyReLU-79         [-1, 64, 255, 255]               0\n     DecoderBlock-80        [-1, 128, 256, 256]               0\n  ConvTranspose2d-81         [-1, 64, 256, 256]          73,792\n  ConvTranspose2d-82          [-1, 3, 256, 256]           1,731\n             Tanh-83          [-1, 3, 256, 256]               0\n================================================================\nTotal params: 67,625,667\nTrainable params: 67,625,667\nNon-trainable params: 0\n----------------------------------------------------------------\nInput size (MB): 0.75\nForward/backward pass size (MB): 805.09\nParams size (MB): 257.97\nEstimated Total Size (MB): 1063.81\n----------------------------------------------------------------\n"
     ]
    }
   ],
   "source": [
    "from model import *\n",
    "from torchsummary import summary\n",
    "import torch\n",
    "\n",
    "g = Generator()\n",
    "g.cuda()\n",
    "summary(g, input_size=(3, 256, 256))"
   ]
  },
  {
   "cell_type": "code",
   "execution_count": 2,
   "metadata": {},
   "outputs": [
    {
     "output_type": "stream",
     "name": "stdout",
     "text": [
      "----------------------------------------------------------------\n        Layer (type)               Output Shape         Param #\n================================================================\n            Conv2d-1         [-1, 64, 128, 128]           3,136\n         LeakyReLU-2         [-1, 64, 128, 128]               0\n            Conv2d-3          [-1, 128, 64, 64]         131,200\n    InstanceNorm2d-4          [-1, 128, 64, 64]               0\n         LeakyReLU-5          [-1, 128, 64, 64]               0\n      DiscrimBlock-6          [-1, 128, 64, 64]               0\n            Conv2d-7          [-1, 256, 32, 32]         524,544\n    InstanceNorm2d-8          [-1, 256, 32, 32]               0\n         LeakyReLU-9          [-1, 256, 32, 32]               0\n     DiscrimBlock-10          [-1, 256, 32, 32]               0\n           Conv2d-11          [-1, 512, 16, 16]       2,097,664\n   InstanceNorm2d-12          [-1, 512, 16, 16]               0\n        LeakyReLU-13          [-1, 512, 16, 16]               0\n     DiscrimBlock-14          [-1, 512, 16, 16]               0\n           Conv2d-15            [-1, 1, 16, 16]           4,609\n================================================================\nTotal params: 2,761,153\nTrainable params: 2,761,153\nNon-trainable params: 0\n----------------------------------------------------------------\nInput size (MB): 0.75\nForward/backward pass size (MB): 44.00\nParams size (MB): 10.53\nEstimated Total Size (MB): 55.28\n----------------------------------------------------------------\n"
     ]
    }
   ],
   "source": [
    "d = Discriminator()\n",
    "d.cuda()\n",
    "summary(d, input_size=(3, 256, 256))"
   ]
  },
  {
   "cell_type": "code",
   "execution_count": null,
   "metadata": {},
   "outputs": [],
   "source": []
  }
 ]
}